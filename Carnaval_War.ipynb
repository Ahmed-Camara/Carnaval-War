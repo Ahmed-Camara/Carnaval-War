{
 "cells": [
  {
   "cell_type": "code",
   "execution_count": 1,
   "metadata": {},
   "outputs": [],
   "source": [
    "import pandas as pd\n",
    "import seaborn as sns\n",
    "import matplotlib.pyplot as plt\n",
    "%matplotlib inline\n",
    "\n",
    "from sklearn.preprocessing import StandardScaler\n",
    "from sklearn.model_selection import train_test_split\n",
    "from sklearn.pipeline import make_pipeline\n",
    "from sklearn.model_selection import KFold\n",
    "from sklearn.metrics import mean_absolute_error,mean_squared_error,r2_score\n",
    "from sklearn.model_selection import cross_val_predict\n",
    "from sklearn.neighbors import KNeighborsRegressor\n",
    "from sklearn import preprocessing\n",
    "from math import sqrt"
   ]
  },
  {
   "cell_type": "code",
   "execution_count": 2,
   "metadata": {},
   "outputs": [],
   "source": [
    "df_train = pd.read_csv('train.csv')\n",
    "df_test = pd.read_csv('test.csv')"
   ]
  },
  {
   "cell_type": "code",
   "execution_count": 3,
   "metadata": {},
   "outputs": [
    {
     "data": {
      "text/html": [
       "<div>\n",
       "<style scoped>\n",
       "    .dataframe tbody tr th:only-of-type {\n",
       "        vertical-align: middle;\n",
       "    }\n",
       "\n",
       "    .dataframe tbody tr th {\n",
       "        vertical-align: top;\n",
       "    }\n",
       "\n",
       "    .dataframe thead th {\n",
       "        text-align: right;\n",
       "    }\n",
       "</style>\n",
       "<table border=\"1\" class=\"dataframe\">\n",
       "  <thead>\n",
       "    <tr style=\"text-align: right;\">\n",
       "      <th></th>\n",
       "      <th>Product_id</th>\n",
       "      <th>Stall_no</th>\n",
       "      <th>instock_date</th>\n",
       "      <th>Market_Category</th>\n",
       "      <th>Customer_name</th>\n",
       "      <th>Loyalty_customer</th>\n",
       "      <th>Product_Category</th>\n",
       "      <th>Grade</th>\n",
       "      <th>Demand</th>\n",
       "      <th>Discount_avail</th>\n",
       "      <th>charges_1</th>\n",
       "      <th>charges_2 (%)</th>\n",
       "      <th>Minimum_price</th>\n",
       "      <th>Maximum_price</th>\n",
       "      <th>Selling_Price</th>\n",
       "    </tr>\n",
       "  </thead>\n",
       "  <tbody>\n",
       "    <tr>\n",
       "      <th>0</th>\n",
       "      <td>BRAE2NF6JA5GUEXG</td>\n",
       "      <td>37.0</td>\n",
       "      <td>2015-08-22 18:36:12.000</td>\n",
       "      <td>2</td>\n",
       "      <td>Lillyann</td>\n",
       "      <td>Yes</td>\n",
       "      <td>Fashion</td>\n",
       "      <td>1</td>\n",
       "      <td>68</td>\n",
       "      <td>0.0</td>\n",
       "      <td>376.0</td>\n",
       "      <td>11.0</td>\n",
       "      <td>2983.0</td>\n",
       "      <td>4713.0</td>\n",
       "      <td>4185.947700</td>\n",
       "    </tr>\n",
       "    <tr>\n",
       "      <th>1</th>\n",
       "      <td>TUNE8SFB6RJN2HSD</td>\n",
       "      <td>38.0</td>\n",
       "      <td>2016-03-27 21:19:13.000</td>\n",
       "      <td>24</td>\n",
       "      <td>Klynn</td>\n",
       "      <td>Yes</td>\n",
       "      <td>Fashion</td>\n",
       "      <td>0</td>\n",
       "      <td>51</td>\n",
       "      <td>0.0</td>\n",
       "      <td>397.0</td>\n",
       "      <td>12.0</td>\n",
       "      <td>7495.0</td>\n",
       "      <td>10352.0</td>\n",
       "      <td>9271.490256</td>\n",
       "    </tr>\n",
       "    <tr>\n",
       "      <th>2</th>\n",
       "      <td>BRAEAR7WZPQGPBZU</td>\n",
       "      <td>9.0</td>\n",
       "      <td>2015-08-18 19:25:22.000</td>\n",
       "      <td>447</td>\n",
       "      <td>Ridge</td>\n",
       "      <td>Yes</td>\n",
       "      <td>Child_care</td>\n",
       "      <td>0</td>\n",
       "      <td>10</td>\n",
       "      <td>0.0</td>\n",
       "      <td>250.0</td>\n",
       "      <td>9.0</td>\n",
       "      <td>5752.0</td>\n",
       "      <td>7309.0</td>\n",
       "      <td>6785.701362</td>\n",
       "    </tr>\n",
       "    <tr>\n",
       "      <th>3</th>\n",
       "      <td>WATDZ2ZQ8JPDHCTJ</td>\n",
       "      <td>50.0</td>\n",
       "      <td>2016-03-28 21:53:01.000</td>\n",
       "      <td>23</td>\n",
       "      <td>Abran</td>\n",
       "      <td>Yes</td>\n",
       "      <td>Educational</td>\n",
       "      <td>2</td>\n",
       "      <td>48</td>\n",
       "      <td>0.0</td>\n",
       "      <td>144.0</td>\n",
       "      <td>13.0</td>\n",
       "      <td>5090.0</td>\n",
       "      <td>20814.0</td>\n",
       "      <td>13028.917824</td>\n",
       "    </tr>\n",
       "    <tr>\n",
       "      <th>4</th>\n",
       "      <td>JWSEBUKYQPMBZ3RK</td>\n",
       "      <td>7.0</td>\n",
       "      <td>2016-03-29 22:58:53.000</td>\n",
       "      <td>63</td>\n",
       "      <td>Dustyn</td>\n",
       "      <td>Yes</td>\n",
       "      <td>Repair</td>\n",
       "      <td>1</td>\n",
       "      <td>35</td>\n",
       "      <td>1.0</td>\n",
       "      <td>211.0</td>\n",
       "      <td>4.0</td>\n",
       "      <td>2430.0</td>\n",
       "      <td>9261.0</td>\n",
       "      <td>906.553935</td>\n",
       "    </tr>\n",
       "    <tr>\n",
       "      <th>...</th>\n",
       "      <td>...</td>\n",
       "      <td>...</td>\n",
       "      <td>...</td>\n",
       "      <td>...</td>\n",
       "      <td>...</td>\n",
       "      <td>...</td>\n",
       "      <td>...</td>\n",
       "      <td>...</td>\n",
       "      <td>...</td>\n",
       "      <td>...</td>\n",
       "      <td>...</td>\n",
       "      <td>...</td>\n",
       "      <td>...</td>\n",
       "      <td>...</td>\n",
       "      <td>...</td>\n",
       "    </tr>\n",
       "    <tr>\n",
       "      <th>6363</th>\n",
       "      <td>WATE7VE2D62VEKW8</td>\n",
       "      <td>17.0</td>\n",
       "      <td>2016-03-28 19:55:43.000</td>\n",
       "      <td>24</td>\n",
       "      <td>Marquell</td>\n",
       "      <td>Yes</td>\n",
       "      <td>Technology</td>\n",
       "      <td>0</td>\n",
       "      <td>47</td>\n",
       "      <td>0.0</td>\n",
       "      <td>614.0</td>\n",
       "      <td>10.0</td>\n",
       "      <td>8174.0</td>\n",
       "      <td>11266.0</td>\n",
       "      <td>10277.520192</td>\n",
       "    </tr>\n",
       "    <tr>\n",
       "      <th>6364</th>\n",
       "      <td>SHOEF9G8Z4ZXF6WE</td>\n",
       "      <td>21.0</td>\n",
       "      <td>2015-02-11 15:09:26.000</td>\n",
       "      <td>55</td>\n",
       "      <td>Theodore</td>\n",
       "      <td>Yes</td>\n",
       "      <td>Child_care</td>\n",
       "      <td>0</td>\n",
       "      <td>35</td>\n",
       "      <td>0.0</td>\n",
       "      <td>269.0</td>\n",
       "      <td>5.0</td>\n",
       "      <td>3564.0</td>\n",
       "      <td>4920.0</td>\n",
       "      <td>4501.837200</td>\n",
       "    </tr>\n",
       "    <tr>\n",
       "      <th>6365</th>\n",
       "      <td>PBXEB9ZQ7HHCFXYG</td>\n",
       "      <td>36.0</td>\n",
       "      <td>2015-11-19 17:29:21.000</td>\n",
       "      <td>358</td>\n",
       "      <td>Galen</td>\n",
       "      <td>No</td>\n",
       "      <td>Repair</td>\n",
       "      <td>3</td>\n",
       "      <td>29</td>\n",
       "      <td>0.0</td>\n",
       "      <td>283.0</td>\n",
       "      <td>3.0</td>\n",
       "      <td>5303.0</td>\n",
       "      <td>14614.0</td>\n",
       "      <td>10218.878775</td>\n",
       "    </tr>\n",
       "    <tr>\n",
       "      <th>6366</th>\n",
       "      <td>NKCEAGXHRYTNTMG7</td>\n",
       "      <td>27.0</td>\n",
       "      <td>2015-12-08 04:19:33.000</td>\n",
       "      <td>452</td>\n",
       "      <td>Posey</td>\n",
       "      <td>Yes</td>\n",
       "      <td>Repair</td>\n",
       "      <td>0</td>\n",
       "      <td>8</td>\n",
       "      <td>0.0</td>\n",
       "      <td>267.0</td>\n",
       "      <td>3.0</td>\n",
       "      <td>4334.0</td>\n",
       "      <td>5849.0</td>\n",
       "      <td>5359.493997</td>\n",
       "    </tr>\n",
       "    <tr>\n",
       "      <th>6367</th>\n",
       "      <td>CAGE53FSAFWZRHFF</td>\n",
       "      <td>11.0</td>\n",
       "      <td>2016-01-20 19:45:35.000</td>\n",
       "      <td>58</td>\n",
       "      <td>Cutler</td>\n",
       "      <td>Yes</td>\n",
       "      <td>Technology</td>\n",
       "      <td>0</td>\n",
       "      <td>94</td>\n",
       "      <td>0.0</td>\n",
       "      <td>614.0</td>\n",
       "      <td>7.0</td>\n",
       "      <td>3975.0</td>\n",
       "      <td>5383.0</td>\n",
       "      <td>5220.013568</td>\n",
       "    </tr>\n",
       "  </tbody>\n",
       "</table>\n",
       "<p>6368 rows × 15 columns</p>\n",
       "</div>"
      ],
      "text/plain": [
       "            Product_id  Stall_no             instock_date  Market_Category  \\\n",
       "0     BRAE2NF6JA5GUEXG      37.0  2015-08-22 18:36:12.000                2   \n",
       "1     TUNE8SFB6RJN2HSD      38.0  2016-03-27 21:19:13.000               24   \n",
       "2     BRAEAR7WZPQGPBZU       9.0  2015-08-18 19:25:22.000              447   \n",
       "3     WATDZ2ZQ8JPDHCTJ      50.0  2016-03-28 21:53:01.000               23   \n",
       "4     JWSEBUKYQPMBZ3RK       7.0  2016-03-29 22:58:53.000               63   \n",
       "...                ...       ...                      ...              ...   \n",
       "6363  WATE7VE2D62VEKW8      17.0  2016-03-28 19:55:43.000               24   \n",
       "6364  SHOEF9G8Z4ZXF6WE      21.0  2015-02-11 15:09:26.000               55   \n",
       "6365  PBXEB9ZQ7HHCFXYG      36.0  2015-11-19 17:29:21.000              358   \n",
       "6366  NKCEAGXHRYTNTMG7      27.0  2015-12-08 04:19:33.000              452   \n",
       "6367  CAGE53FSAFWZRHFF      11.0  2016-01-20 19:45:35.000               58   \n",
       "\n",
       "     Customer_name Loyalty_customer Product_Category  Grade  Demand  \\\n",
       "0         Lillyann              Yes          Fashion      1      68   \n",
       "1            Klynn              Yes          Fashion      0      51   \n",
       "2            Ridge              Yes       Child_care      0      10   \n",
       "3            Abran              Yes      Educational      2      48   \n",
       "4           Dustyn              Yes           Repair      1      35   \n",
       "...            ...              ...              ...    ...     ...   \n",
       "6363      Marquell              Yes       Technology      0      47   \n",
       "6364      Theodore              Yes       Child_care      0      35   \n",
       "6365         Galen              No            Repair      3      29   \n",
       "6366         Posey              Yes           Repair      0       8   \n",
       "6367        Cutler              Yes       Technology      0      94   \n",
       "\n",
       "      Discount_avail  charges_1  charges_2 (%)  Minimum_price  Maximum_price  \\\n",
       "0                0.0      376.0           11.0         2983.0         4713.0   \n",
       "1                0.0      397.0           12.0         7495.0        10352.0   \n",
       "2                0.0      250.0            9.0         5752.0         7309.0   \n",
       "3                0.0      144.0           13.0         5090.0        20814.0   \n",
       "4                1.0      211.0            4.0         2430.0         9261.0   \n",
       "...              ...        ...            ...            ...            ...   \n",
       "6363             0.0      614.0           10.0         8174.0        11266.0   \n",
       "6364             0.0      269.0            5.0         3564.0         4920.0   \n",
       "6365             0.0      283.0            3.0         5303.0        14614.0   \n",
       "6366             0.0      267.0            3.0         4334.0         5849.0   \n",
       "6367             0.0      614.0            7.0         3975.0         5383.0   \n",
       "\n",
       "      Selling_Price  \n",
       "0       4185.947700  \n",
       "1       9271.490256  \n",
       "2       6785.701362  \n",
       "3      13028.917824  \n",
       "4        906.553935  \n",
       "...             ...  \n",
       "6363   10277.520192  \n",
       "6364    4501.837200  \n",
       "6365   10218.878775  \n",
       "6366    5359.493997  \n",
       "6367    5220.013568  \n",
       "\n",
       "[6368 rows x 15 columns]"
      ]
     },
     "execution_count": 3,
     "metadata": {},
     "output_type": "execute_result"
    }
   ],
   "source": [
    "df_train"
   ]
  },
  {
   "cell_type": "code",
   "execution_count": 4,
   "metadata": {},
   "outputs": [
    {
     "name": "stdout",
     "output_type": "stream",
     "text": [
      "<class 'pandas.core.frame.DataFrame'>\n",
      "RangeIndex: 6368 entries, 0 to 6367\n",
      "Data columns (total 15 columns):\n",
      " #   Column            Non-Null Count  Dtype  \n",
      "---  ------            --------------  -----  \n",
      " 0   Product_id        6368 non-null   object \n",
      " 1   Stall_no          6363 non-null   float64\n",
      " 2   instock_date      6368 non-null   object \n",
      " 3   Market_Category   6368 non-null   int64  \n",
      " 4   Customer_name     6157 non-null   object \n",
      " 5   Loyalty_customer  6368 non-null   object \n",
      " 6   Product_Category  6368 non-null   object \n",
      " 7   Grade             6368 non-null   int64  \n",
      " 8   Demand            6368 non-null   int64  \n",
      " 9   Discount_avail    6330 non-null   float64\n",
      " 10  charges_1         6170 non-null   float64\n",
      " 11  charges_2 (%)     6163 non-null   float64\n",
      " 12  Minimum_price     6330 non-null   float64\n",
      " 13  Maximum_price     6025 non-null   float64\n",
      " 14  Selling_Price     6327 non-null   float64\n",
      "dtypes: float64(7), int64(3), object(5)\n",
      "memory usage: 746.4+ KB\n"
     ]
    }
   ],
   "source": [
    "df_train.info()"
   ]
  },
  {
   "cell_type": "code",
   "execution_count": 5,
   "metadata": {},
   "outputs": [
    {
     "name": "stdout",
     "output_type": "stream",
     "text": [
      "<class 'pandas.core.frame.DataFrame'>\n",
      "RangeIndex: 3430 entries, 0 to 3429\n",
      "Data columns (total 14 columns):\n",
      " #   Column            Non-Null Count  Dtype  \n",
      "---  ------            --------------  -----  \n",
      " 0   Product_id        3430 non-null   object \n",
      " 1   Stall_no          3429 non-null   float64\n",
      " 2   instock_date      3430 non-null   object \n",
      " 3   Market_Category   3430 non-null   int64  \n",
      " 4   Customer_name     3377 non-null   object \n",
      " 5   Loyalty_customer  3430 non-null   object \n",
      " 6   Product_Category  3430 non-null   object \n",
      " 7   Grade             3430 non-null   int64  \n",
      " 8   Demand            3430 non-null   int64  \n",
      " 9   Discount_avail    3430 non-null   int64  \n",
      " 10  charges_1         3394 non-null   float64\n",
      " 11  charges_2 (%)     3425 non-null   float64\n",
      " 12  Minimum_price     3416 non-null   float64\n",
      " 13  Maximum_price     3430 non-null   int64  \n",
      "dtypes: float64(4), int64(5), object(5)\n",
      "memory usage: 375.3+ KB\n"
     ]
    }
   ],
   "source": [
    "df_test.info()"
   ]
  },
  {
   "cell_type": "code",
   "execution_count": 6,
   "metadata": {},
   "outputs": [],
   "source": [
    "columns_remove = ['Product_id','instock_date','Customer_name','Product_Category']\n",
    "\n",
    "for col in columns_remove:\n",
    "    \n",
    "    df_train.drop(col,axis = 1,inplace=True)\n",
    "    df_test.drop(col,axis = 1,inplace=True)"
   ]
  },
  {
   "cell_type": "code",
   "execution_count": 7,
   "metadata": {},
   "outputs": [
    {
     "name": "stdout",
     "output_type": "stream",
     "text": [
      "<class 'pandas.core.frame.DataFrame'>\n",
      "RangeIndex: 3430 entries, 0 to 3429\n",
      "Data columns (total 10 columns):\n",
      " #   Column            Non-Null Count  Dtype  \n",
      "---  ------            --------------  -----  \n",
      " 0   Stall_no          3429 non-null   float64\n",
      " 1   Market_Category   3430 non-null   int64  \n",
      " 2   Loyalty_customer  3430 non-null   object \n",
      " 3   Grade             3430 non-null   int64  \n",
      " 4   Demand            3430 non-null   int64  \n",
      " 5   Discount_avail    3430 non-null   int64  \n",
      " 6   charges_1         3394 non-null   float64\n",
      " 7   charges_2 (%)     3425 non-null   float64\n",
      " 8   Minimum_price     3416 non-null   float64\n",
      " 9   Maximum_price     3430 non-null   int64  \n",
      "dtypes: float64(4), int64(5), object(1)\n",
      "memory usage: 268.1+ KB\n"
     ]
    }
   ],
   "source": [
    "df_test.info()"
   ]
  },
  {
   "cell_type": "code",
   "execution_count": 8,
   "metadata": {},
   "outputs": [],
   "source": [
    "#\n",
    "columns_to_fill = ['Stall_no','charges_1','charges_2 (%)','Minimum_price','Discount_avail','Maximum_price']\n",
    "\n",
    "for cols in columns_to_fill :\n",
    "    \n",
    "    df_train[cols].fillna(df_train[cols].median(),inplace=True)\n",
    "    \n",
    "df_train['Selling_Price'].fillna(df_train['Selling_Price'].mean(),inplace=True)"
   ]
  },
  {
   "cell_type": "code",
   "execution_count": 9,
   "metadata": {},
   "outputs": [
    {
     "data": {
      "text/plain": [
       "Stall_no            0\n",
       "Market_Category     0\n",
       "Loyalty_customer    0\n",
       "Grade               0\n",
       "Demand              0\n",
       "Discount_avail      0\n",
       "charges_1           0\n",
       "charges_2 (%)       0\n",
       "Minimum_price       0\n",
       "Maximum_price       0\n",
       "Selling_Price       0\n",
       "dtype: int64"
      ]
     },
     "execution_count": 9,
     "metadata": {},
     "output_type": "execute_result"
    }
   ],
   "source": [
    "df_train.isna().sum()"
   ]
  },
  {
   "cell_type": "code",
   "execution_count": 10,
   "metadata": {},
   "outputs": [],
   "source": [
    "test_columns_to_fill = ['Stall_no','charges_1','charges_2 (%)','Minimum_price']\n",
    "\n",
    "\n",
    "for cols in test_columns_to_fill :\n",
    "    \n",
    "    df_test[cols].fillna(df_test[cols].median(),inplace=True)"
   ]
  },
  {
   "cell_type": "code",
   "execution_count": 11,
   "metadata": {},
   "outputs": [
    {
     "name": "stdout",
     "output_type": "stream",
     "text": [
      "<class 'pandas.core.frame.DataFrame'>\n",
      "RangeIndex: 3430 entries, 0 to 3429\n",
      "Data columns (total 10 columns):\n",
      " #   Column            Non-Null Count  Dtype  \n",
      "---  ------            --------------  -----  \n",
      " 0   Stall_no          3430 non-null   float64\n",
      " 1   Market_Category   3430 non-null   int64  \n",
      " 2   Loyalty_customer  3430 non-null   object \n",
      " 3   Grade             3430 non-null   int64  \n",
      " 4   Demand            3430 non-null   int64  \n",
      " 5   Discount_avail    3430 non-null   int64  \n",
      " 6   charges_1         3430 non-null   float64\n",
      " 7   charges_2 (%)     3430 non-null   float64\n",
      " 8   Minimum_price     3430 non-null   float64\n",
      " 9   Maximum_price     3430 non-null   int64  \n",
      "dtypes: float64(4), int64(5), object(1)\n",
      "memory usage: 268.1+ KB\n"
     ]
    }
   ],
   "source": [
    "df_test.info()"
   ]
  },
  {
   "cell_type": "code",
   "execution_count": null,
   "metadata": {},
   "outputs": [],
   "source": []
  },
  {
   "cell_type": "code",
   "execution_count": 12,
   "metadata": {},
   "outputs": [],
   "source": [
    "label_Encoder = preprocessing.LabelEncoder()"
   ]
  },
  {
   "cell_type": "code",
   "execution_count": 13,
   "metadata": {},
   "outputs": [],
   "source": [
    "df_train['Loyalty_customer'] = label_Encoder.fit_transform(df_train['Loyalty_customer'])\n",
    "df_test['Loyalty_customer'] = label_Encoder.transform(df_test['Loyalty_customer'])"
   ]
  },
  {
   "cell_type": "code",
   "execution_count": null,
   "metadata": {},
   "outputs": [],
   "source": []
  },
  {
   "cell_type": "markdown",
   "metadata": {},
   "source": [
    "#  Features Selection"
   ]
  },
  {
   "cell_type": "code",
   "execution_count": 14,
   "metadata": {},
   "outputs": [
    {
     "data": {
      "text/plain": [
       "Stall_no            2.051585e+02\n",
       "Market_Category     2.899377e+04\n",
       "Loyalty_customer    2.378501e-01\n",
       "Grade               1.050813e+00\n",
       "Demand              8.463399e+02\n",
       "Discount_avail      1.201338e-01\n",
       "charges_1           1.501886e+04\n",
       "charges_2 (%)       1.804830e+01\n",
       "Minimum_price       4.788919e+06\n",
       "Maximum_price       1.309851e+07\n",
       "Selling_Price       8.817901e+06\n",
       "dtype: float64"
      ]
     },
     "execution_count": 14,
     "metadata": {},
     "output_type": "execute_result"
    }
   ],
   "source": [
    "df_train.var()"
   ]
  },
  {
   "cell_type": "code",
   "execution_count": 15,
   "metadata": {},
   "outputs": [
    {
     "data": {
      "image/png": "[encoded data removed]",
      "text/plain": [
       "<Figure size 1080x1080 with 2 Axes>"
      ]
     },
     "metadata": {
      "needs_background": "light"
     },
     "output_type": "display_data"
    }
   ],
   "source": [
    "plt.figure(figsize=(15,15))\n",
    "p = sns.heatmap(df_train.corr(),annot=True,cmap='RdYlGn',center=0)"
   ]
  },
  {
   "cell_type": "code",
   "execution_count": 16,
   "metadata": {},
   "outputs": [],
   "source": [
    "#ax = sns.pairplot(df_train)"
   ]
  },
  {
   "cell_type": "code",
   "execution_count": 17,
   "metadata": {},
   "outputs": [
    {
     "data": {
      "text/plain": [
       "Stall_no            0.011690\n",
       "Market_Category     0.138289\n",
       "Loyalty_customer    0.095352\n",
       "Grade               0.086204\n",
       "Demand              0.000599\n",
       "Discount_avail      0.508438\n",
       "charges_1           0.052109\n",
       "charges_2 (%)       0.008839\n",
       "Minimum_price       0.695802\n",
       "Maximum_price       0.747196\n",
       "Selling_Price       1.000000\n",
       "Name: Selling_Price, dtype: float64"
      ]
     },
     "execution_count": 17,
     "metadata": {},
     "output_type": "execute_result"
    }
   ],
   "source": [
    "abs(df_train.corr()['Selling_Price'])"
   ]
  },
  {
   "cell_type": "code",
   "execution_count": 18,
   "metadata": {},
   "outputs": [
    {
     "data": {
      "text/plain": [
       "['Discount_avail', 'Minimum_price', 'Maximum_price']"
      ]
     },
     "execution_count": 18,
     "metadata": {},
     "output_type": "execute_result"
    }
   ],
   "source": [
    "abs(df_train.corr()['Selling_Price'][abs(df_train.corr()['Selling_Price']) > 0.5].drop('Selling_Price')).index.tolist()"
   ]
  },
  {
   "cell_type": "code",
   "execution_count": 19,
   "metadata": {},
   "outputs": [],
   "source": [
    "y = df_train['Selling_Price']"
   ]
  },
  {
   "cell_type": "code",
   "execution_count": 20,
   "metadata": {},
   "outputs": [
    {
     "name": "stdout",
     "output_type": "stream",
     "text": [
      "['Market_Category', 'Discount_avail', 'Minimum_price', 'Maximum_price']\n",
      "RMSE :  634.6\n",
      "R_squared :  0.98\n",
      "['Discount_avail', 'Minimum_price', 'Maximum_price']\n",
      "RMSE :  650.87\n",
      "R_squared :  0.98\n",
      "['Discount_avail', 'Minimum_price', 'Maximum_price']\n",
      "RMSE :  650.87\n",
      "R_squared :  0.98\n",
      "['Discount_avail', 'Minimum_price', 'Maximum_price']\n",
      "RMSE :  650.87\n",
      "R_squared :  0.98\n",
      "['Discount_avail', 'Minimum_price', 'Maximum_price']\n",
      "RMSE :  650.87\n",
      "R_squared :  0.98\n",
      "['Minimum_price', 'Maximum_price']\n",
      "RMSE :  1945.41\n",
      "R_squared :  0.76\n",
      "['Maximum_price']\n",
      "RMSE :  2115.55\n",
      "R_squared :  0.7\n"
     ]
    }
   ],
   "source": [
    "vals = [0.1,0.2,0.3,0.4,0.5,0.6,0.7]\n",
    "\n",
    "for val in vals:\n",
    "    \n",
    "    features = abs(df_train.corr()['Selling_Price'][abs(df_train.corr()['Selling_Price']) > val].drop('Selling_Price')).index.tolist()\n",
    "    \n",
    "    X = df_train.drop(columns='Selling_Price')\n",
    "    \n",
    "   \n",
    "    X = X[features]\n",
    "    \n",
    "    print(features)\n",
    "    \n",
    "    cv = KFold(n_splits=10,shuffle=False)\n",
    "    classifier_pipeline = make_pipeline(StandardScaler(),KNeighborsRegressor())\n",
    "    y_pred = cross_val_predict(classifier_pipeline,X,y,cv=cv)\n",
    "    print('RMSE : ',str(round(sqrt(mean_squared_error(y,y_pred)),2)))\n",
    "    print('R_squared : ',str(round(sqrt(r2_score(y,y_pred)),2)))\n",
    "    \n",
    "    "
   ]
  },
  {
   "cell_type": "code",
   "execution_count": 21,
   "metadata": {},
   "outputs": [],
   "source": [
    "X = df_train.drop('Selling_Price',axis=1)\n",
    "y = df_train['Selling_Price']"
   ]
  },
  {
   "cell_type": "code",
   "execution_count": 22,
   "metadata": {},
   "outputs": [
    {
     "data": {
      "text/plain": [
       "(6368, 10)"
      ]
     },
     "execution_count": 22,
     "metadata": {},
     "output_type": "execute_result"
    }
   ],
   "source": [
    "X.shape"
   ]
  },
  {
   "cell_type": "code",
   "execution_count": 23,
   "metadata": {},
   "outputs": [],
   "source": [
    "from mlxtend.feature_selection import SequentialFeatureSelector as sfs"
   ]
  },
  {
   "cell_type": "code",
   "execution_count": 24,
   "metadata": {},
   "outputs": [],
   "source": [
    "sfsl = sfs(classifier_pipeline,k_features=10,forward=True,scoring='neg_mean_squared_error',cv=cv)"
   ]
  },
  {
   "cell_type": "code",
   "execution_count": null,
   "metadata": {},
   "outputs": [],
   "source": []
  },
  {
   "cell_type": "code",
   "execution_count": 25,
   "metadata": {
    "scrolled": false
   },
   "outputs": [
    {
     "data": {
      "text/plain": [
       "{1: {'feature_idx': (9,),\n",
       "  'cv_scores': array([-4545972.43127276, -4522262.74781717, -4933125.97470116,\n",
       "         -4570475.27838291, -4252285.24278792, -3956044.3160844 ,\n",
       "         -4984957.99929503, -4522103.5565885 , -4882597.98235574,\n",
       "         -3584816.79684153]),\n",
       "  'avg_score': -4475464.2326127095,\n",
       "  'feature_names': ('Maximum_price',)},\n",
       " 2: {'feature_idx': (5, 9),\n",
       "  'cv_scores': array([-1340822.06704722, -1411907.57477283, -1138224.70970772,\n",
       "         -1399977.77620088,  -844953.45617006,  -947235.69023384,\n",
       "         -1484943.52627276, -1008314.01412973, -1282975.2687011 ,\n",
       "         -1096831.7930237 ]),\n",
       "  'avg_score': -1195618.5876259839,\n",
       "  'feature_names': ('Discount_avail', 'Maximum_price')},\n",
       " 3: {'feature_idx': (5, 8, 9),\n",
       "  'cv_scores': array([-378174.7538609 , -657076.99042786, -324688.44994129,\n",
       "         -581225.58410066, -199868.42950113, -203090.68866485,\n",
       "         -562436.2480893 , -365500.54866136, -584951.60110631,\n",
       "         -370103.56021387]),\n",
       "  'avg_score': -422711.6854567525,\n",
       "  'feature_names': ('Discount_avail', 'Minimum_price', 'Maximum_price')},\n",
       " 4: {'feature_idx': (1, 5, 8, 9),\n",
       "  'cv_scores': array([-339977.4827364 , -599006.50102999, -351753.91614273,\n",
       "         -531592.4361298 , -175218.09790342, -237237.65179565,\n",
       "         -547353.81795603, -365955.32475655, -506798.31004233,\n",
       "         -372340.099869  ]),\n",
       "  'avg_score': -402723.3638361895,\n",
       "  'feature_names': ('Market_Category',\n",
       "   'Discount_avail',\n",
       "   'Minimum_price',\n",
       "   'Maximum_price')},\n",
       " 5: {'feature_idx': (1, 2, 5, 8, 9),\n",
       "  'cv_scores': array([-346038.29888752, -636530.32121055, -343828.87350792,\n",
       "         -555083.73938587, -184068.83747703, -241954.97153344,\n",
       "         -557382.00974264, -375653.79533034, -533325.23650466,\n",
       "         -357210.63988573]),\n",
       "  'avg_score': -413107.6723465694,\n",
       "  'feature_names': ('Market_Category',\n",
       "   'Loyalty_customer',\n",
       "   'Discount_avail',\n",
       "   'Minimum_price',\n",
       "   'Maximum_price')},\n",
       " 6: {'feature_idx': (1, 2, 3, 5, 8, 9),\n",
       "  'cv_scores': array([-399513.55658629, -637710.34209406, -406903.77689408,\n",
       "         -543050.67219681, -202670.10529583, -266674.97215453,\n",
       "         -595810.67988112, -432798.79568266, -607664.24854642,\n",
       "         -372732.31423296]),\n",
       "  'avg_score': -446552.94635647454,\n",
       "  'feature_names': ('Market_Category',\n",
       "   'Loyalty_customer',\n",
       "   'Grade',\n",
       "   'Discount_avail',\n",
       "   'Minimum_price',\n",
       "   'Maximum_price')},\n",
       " 7: {'feature_idx': (1, 2, 3, 5, 6, 8, 9),\n",
       "  'cv_scores': array([-428863.94973693, -739270.49890009, -420580.98256339,\n",
       "         -555652.24419054, -307800.56440858, -322455.32564798,\n",
       "         -650200.74627708, -462877.22782993, -730079.37061352,\n",
       "         -437864.66322094]),\n",
       "  'avg_score': -505564.5573388992,\n",
       "  'feature_names': ('Market_Category',\n",
       "   'Loyalty_customer',\n",
       "   'Grade',\n",
       "   'Discount_avail',\n",
       "   'charges_1',\n",
       "   'Minimum_price',\n",
       "   'Maximum_price')},\n",
       " 8: {'feature_idx': (1, 2, 3, 5, 6, 7, 8, 9),\n",
       "  'cv_scores': array([-547351.55590576, -876899.52455431, -535960.34758435,\n",
       "         -655636.29825656, -348785.90059402, -384027.68251039,\n",
       "         -728452.78842275, -582963.82191056, -768747.11994426,\n",
       "         -506846.73298958]),\n",
       "  'avg_score': -593567.1772672541,\n",
       "  'feature_names': ('Market_Category',\n",
       "   'Loyalty_customer',\n",
       "   'Grade',\n",
       "   'Discount_avail',\n",
       "   'charges_1',\n",
       "   'charges_2 (%)',\n",
       "   'Minimum_price',\n",
       "   'Maximum_price')},\n",
       " 9: {'feature_idx': (0, 1, 2, 3, 5, 6, 7, 8, 9),\n",
       "  'cv_scores': array([-557360.22569381, -903067.63110163, -701690.92707838,\n",
       "         -744581.89835115, -407241.69972353, -417341.35197168,\n",
       "         -797026.71946547, -618057.66536138, -919779.55493085,\n",
       "         -675928.61839827]),\n",
       "  'avg_score': -674207.6292076135,\n",
       "  'feature_names': ('Stall_no',\n",
       "   'Market_Category',\n",
       "   'Loyalty_customer',\n",
       "   'Grade',\n",
       "   'Discount_avail',\n",
       "   'charges_1',\n",
       "   'charges_2 (%)',\n",
       "   'Minimum_price',\n",
       "   'Maximum_price')},\n",
       " 10: {'feature_idx': (0, 1, 2, 3, 4, 5, 6, 7, 8, 9),\n",
       "  'cv_scores': array([ -688455.66136553, -1003596.11372824,  -816247.08228486,\n",
       "          -905679.5243186 ,  -506142.20163459,  -546316.32570872,\n",
       "          -831140.8412672 ,  -662350.05966264,  -942881.71559406,\n",
       "          -744170.42531621]),\n",
       "  'avg_score': -764697.9950880645,\n",
       "  'feature_names': ('Stall_no',\n",
       "   'Market_Category',\n",
       "   'Loyalty_customer',\n",
       "   'Grade',\n",
       "   'Demand',\n",
       "   'Discount_avail',\n",
       "   'charges_1',\n",
       "   'charges_2 (%)',\n",
       "   'Minimum_price',\n",
       "   'Maximum_price')}}"
      ]
     },
     "execution_count": 25,
     "metadata": {},
     "output_type": "execute_result"
    }
   ],
   "source": [
    "sfsl.fit(X,y)\n",
    "\n",
    "sfsl.subsets_"
   ]
  },
  {
   "cell_type": "code",
   "execution_count": 26,
   "metadata": {},
   "outputs": [],
   "source": [
    "result = ['Loyalty_customer',\n",
    "   'Grade',\n",
    "   'Discount_avail',\n",
    "   'charges_1',\n",
    "   'Minimum_price',\n",
    "   'Maximum_price']"
   ]
  },
  {
   "cell_type": "code",
   "execution_count": 27,
   "metadata": {},
   "outputs": [],
   "source": [
    "X = df_train[result]"
   ]
  },
  {
   "cell_type": "code",
   "execution_count": 28,
   "metadata": {},
   "outputs": [],
   "source": [
    "X_train,X_validation,y_train,y_validation = train_test_split(X,y,test_size=0.3,random_state=100)"
   ]
  },
  {
   "cell_type": "code",
   "execution_count": 29,
   "metadata": {},
   "outputs": [
    {
     "data": {
      "text/plain": [
       "(1911,)"
      ]
     },
     "execution_count": 29,
     "metadata": {},
     "output_type": "execute_result"
    }
   ],
   "source": [
    "y_validation.shape"
   ]
  },
  {
   "cell_type": "code",
   "execution_count": 30,
   "metadata": {},
   "outputs": [],
   "source": [
    "cv = KFold(n_splits=10,shuffle=False)\n",
    "classifier_pipeline = make_pipeline(StandardScaler(),KNeighborsRegressor())"
   ]
  },
  {
   "cell_type": "code",
   "execution_count": 31,
   "metadata": {},
   "outputs": [
    {
     "data": {
      "text/plain": [
       "Pipeline(steps=[('standardscaler', StandardScaler()),\n",
       "                ('kneighborsregressor', KNeighborsRegressor())])"
      ]
     },
     "execution_count": 31,
     "metadata": {},
     "output_type": "execute_result"
    }
   ],
   "source": [
    "classifier_pipeline.fit(X_train,y_train)"
   ]
  },
  {
   "cell_type": "code",
   "execution_count": 32,
   "metadata": {},
   "outputs": [],
   "source": [
    "y_hat = classifier_pipeline.predict(X_validation)"
   ]
  },
  {
   "cell_type": "code",
   "execution_count": 33,
   "metadata": {},
   "outputs": [
    {
     "name": "stdout",
     "output_type": "stream",
     "text": [
      "RMSE :  639.33\n",
      "R_squared :  0.98\n"
     ]
    }
   ],
   "source": [
    "print('RMSE : ',str(round(sqrt(mean_squared_error(y_validation,y_hat)),2)))\n",
    "print('R_squared : ',str(round(sqrt(r2_score(y_validation,y_hat)),2)))"
   ]
  },
  {
   "cell_type": "code",
   "execution_count": 34,
   "metadata": {},
   "outputs": [],
   "source": [
    "X_test = df_test[result]"
   ]
  },
  {
   "cell_type": "code",
   "execution_count": 35,
   "metadata": {},
   "outputs": [],
   "source": [
    "y_prediction = classifier_pipeline.predict(X_test)"
   ]
  },
  {
   "cell_type": "code",
   "execution_count": 36,
   "metadata": {},
   "outputs": [
    {
     "data": {
      "text/plain": [
       "array([ 3364.6451344 ,  2152.6629626 , 10707.5035602 , ...,\n",
       "        5850.3050876 ,  3349.8958024 ,   973.66665657])"
      ]
     },
     "execution_count": 36,
     "metadata": {},
     "output_type": "execute_result"
    }
   ],
   "source": [
    "y_prediction"
   ]
  },
  {
   "cell_type": "code",
   "execution_count": 37,
   "metadata": {},
   "outputs": [
    {
     "data": {
      "text/plain": [
       "Text(0, 0.5, 'Predicted value')"
      ]
     },
     "execution_count": 37,
     "metadata": {},
     "output_type": "execute_result"
    },
    {
     "data": {
      "image/png": "[encoded data removed]",
      "text/plain": [
       "<Figure size 432x288 with 1 Axes>"
      ]
     },
     "metadata": {
      "needs_background": "light"
     },
     "output_type": "display_data"
    }
   ],
   "source": [
    "sns.scatterplot(y_validation,y_hat)\n",
    "plt.title('Check for Linearity')\n",
    "plt.xlabel('Actual value')\n",
    "plt.ylabel('Predicted value')"
   ]
  },
  {
   "cell_type": "code",
   "execution_count": 38,
   "metadata": {},
   "outputs": [
    {
     "data": {
      "text/plain": [
       "Text(0.5, 0, 'Errors')"
      ]
     },
     "execution_count": 38,
     "metadata": {},
     "output_type": "execute_result"
    },
    {
     "data": {
      "image/png": "[encoded data removed]",
      "text/plain": [
       "<Figure size 432x288 with 1 Axes>"
      ]
     },
     "metadata": {
      "needs_background": "light"
     },
     "output_type": "display_data"
    }
   ],
   "source": [
    "fig = plt.figure()\n",
    "sns.distplot((y_validation- y_hat), bins = 20)\n",
    "fig.suptitle('Error Terms Analysis', fontsize = 20)                   \n",
    "plt.xlabel('Errors', fontsize = 18)"
   ]
  },
  {
   "cell_type": "code",
   "execution_count": 39,
   "metadata": {},
   "outputs": [
    {
     "data": {
      "text/html": [
       "<div>\n",
       "<style scoped>\n",
       "    .dataframe tbody tr th:only-of-type {\n",
       "        vertical-align: middle;\n",
       "    }\n",
       "\n",
       "    .dataframe tbody tr th {\n",
       "        vertical-align: top;\n",
       "    }\n",
       "\n",
       "    .dataframe thead th {\n",
       "        text-align: right;\n",
       "    }\n",
       "</style>\n",
       "<table border=\"1\" class=\"dataframe\">\n",
       "  <thead>\n",
       "    <tr style=\"text-align: right;\">\n",
       "      <th></th>\n",
       "      <th>Product_id</th>\n",
       "      <th>Selling_Price</th>\n",
       "    </tr>\n",
       "  </thead>\n",
       "  <tbody>\n",
       "    <tr>\n",
       "      <th>0</th>\n",
       "      <td>SCHE4YSTDVPVZVXW</td>\n",
       "      <td>3364.645134</td>\n",
       "    </tr>\n",
       "    <tr>\n",
       "      <th>1</th>\n",
       "      <td>ACCEGCATKHNRXUHW</td>\n",
       "      <td>2152.662963</td>\n",
       "    </tr>\n",
       "    <tr>\n",
       "      <th>2</th>\n",
       "      <td>NKCE6GJ5XVJDXNNZ</td>\n",
       "      <td>10707.503560</td>\n",
       "    </tr>\n",
       "    <tr>\n",
       "      <th>3</th>\n",
       "      <td>NKCEB8BK3ZXDHDHM</td>\n",
       "      <td>9000.947219</td>\n",
       "    </tr>\n",
       "    <tr>\n",
       "      <th>4</th>\n",
       "      <td>TOPEFDXSAHRNPF94</td>\n",
       "      <td>5461.604749</td>\n",
       "    </tr>\n",
       "    <tr>\n",
       "      <th>...</th>\n",
       "      <td>...</td>\n",
       "      <td>...</td>\n",
       "    </tr>\n",
       "    <tr>\n",
       "      <th>3425</th>\n",
       "      <td>BBAE9K7BXFUTDNBK</td>\n",
       "      <td>3927.889436</td>\n",
       "    </tr>\n",
       "    <tr>\n",
       "      <th>3426</th>\n",
       "      <td>RTRDYPA4PJHCJCGF</td>\n",
       "      <td>9161.141362</td>\n",
       "    </tr>\n",
       "    <tr>\n",
       "      <th>3427</th>\n",
       "      <td>TUNE8FWQBS7TVVT7</td>\n",
       "      <td>5850.305088</td>\n",
       "    </tr>\n",
       "    <tr>\n",
       "      <th>3428</th>\n",
       "      <td>NKCEGMUABCRGUZPE</td>\n",
       "      <td>3349.895802</td>\n",
       "    </tr>\n",
       "    <tr>\n",
       "      <th>3429</th>\n",
       "      <td>RNGE7M92KAQWUBCS</td>\n",
       "      <td>973.666657</td>\n",
       "    </tr>\n",
       "  </tbody>\n",
       "</table>\n",
       "<p>3430 rows × 2 columns</p>\n",
       "</div>"
      ],
      "text/plain": [
       "            Product_id  Selling_Price\n",
       "0     SCHE4YSTDVPVZVXW    3364.645134\n",
       "1     ACCEGCATKHNRXUHW    2152.662963\n",
       "2     NKCE6GJ5XVJDXNNZ   10707.503560\n",
       "3     NKCEB8BK3ZXDHDHM    9000.947219\n",
       "4     TOPEFDXSAHRNPF94    5461.604749\n",
       "...                ...            ...\n",
       "3425  BBAE9K7BXFUTDNBK    3927.889436\n",
       "3426  RTRDYPA4PJHCJCGF    9161.141362\n",
       "3427  TUNE8FWQBS7TVVT7    5850.305088\n",
       "3428  NKCEGMUABCRGUZPE    3349.895802\n",
       "3429  RNGE7M92KAQWUBCS     973.666657\n",
       "\n",
       "[3430 rows x 2 columns]"
      ]
     },
     "execution_count": 39,
     "metadata": {},
     "output_type": "execute_result"
    }
   ],
   "source": [
    "test_data = pd.read_csv('test.csv')\n",
    "submission_file = pd.DataFrame({'Product_id': test_data['Product_id'],'Selling_Price': y_prediction})\n",
    "submission_file.to_csv('sample_submission.csv', index = False)\n",
    "sub = pd.read_csv('sample_submission.csv')\n",
    "sub"
   ]
  },
  {
   "cell_type": "code",
   "execution_count": 40,
   "metadata": {},
   "outputs": [],
   "source": [
    "df = pd.DataFrame()"
   ]
  },
  {
   "cell_type": "code",
   "execution_count": 41,
   "metadata": {},
   "outputs": [],
   "source": [
    "df['actual'] = y_validation\n",
    "df['predicted'] = y_hat"
   ]
  },
  {
   "cell_type": "code",
   "execution_count": 42,
   "metadata": {},
   "outputs": [
    {
     "data": {
      "text/html": [
       "<div>\n",
       "<style scoped>\n",
       "    .dataframe tbody tr th:only-of-type {\n",
       "        vertical-align: middle;\n",
       "    }\n",
       "\n",
       "    .dataframe tbody tr th {\n",
       "        vertical-align: top;\n",
       "    }\n",
       "\n",
       "    .dataframe thead th {\n",
       "        text-align: right;\n",
       "    }\n",
       "</style>\n",
       "<table border=\"1\" class=\"dataframe\">\n",
       "  <thead>\n",
       "    <tr style=\"text-align: right;\">\n",
       "      <th></th>\n",
       "      <th>actual</th>\n",
       "      <th>predicted</th>\n",
       "    </tr>\n",
       "  </thead>\n",
       "  <tbody>\n",
       "    <tr>\n",
       "      <th>2513</th>\n",
       "      <td>769.231069</td>\n",
       "      <td>756.423971</td>\n",
       "    </tr>\n",
       "    <tr>\n",
       "      <th>4882</th>\n",
       "      <td>3286.871280</td>\n",
       "      <td>3045.548632</td>\n",
       "    </tr>\n",
       "    <tr>\n",
       "      <th>5100</th>\n",
       "      <td>3089.536800</td>\n",
       "      <td>3036.140216</td>\n",
       "    </tr>\n",
       "    <tr>\n",
       "      <th>2672</th>\n",
       "      <td>1669.060800</td>\n",
       "      <td>1589.677702</td>\n",
       "    </tr>\n",
       "    <tr>\n",
       "      <th>781</th>\n",
       "      <td>3246.061392</td>\n",
       "      <td>3193.835773</td>\n",
       "    </tr>\n",
       "    <tr>\n",
       "      <th>...</th>\n",
       "      <td>...</td>\n",
       "      <td>...</td>\n",
       "    </tr>\n",
       "    <tr>\n",
       "      <th>1974</th>\n",
       "      <td>2995.690500</td>\n",
       "      <td>2864.516255</td>\n",
       "    </tr>\n",
       "    <tr>\n",
       "      <th>5882</th>\n",
       "      <td>726.317156</td>\n",
       "      <td>715.674855</td>\n",
       "    </tr>\n",
       "    <tr>\n",
       "      <th>157</th>\n",
       "      <td>4504.779825</td>\n",
       "      <td>4646.077917</td>\n",
       "    </tr>\n",
       "    <tr>\n",
       "      <th>4989</th>\n",
       "      <td>347.354865</td>\n",
       "      <td>333.822677</td>\n",
       "    </tr>\n",
       "    <tr>\n",
       "      <th>5462</th>\n",
       "      <td>596.002018</td>\n",
       "      <td>543.010329</td>\n",
       "    </tr>\n",
       "  </tbody>\n",
       "</table>\n",
       "<p>1911 rows × 2 columns</p>\n",
       "</div>"
      ],
      "text/plain": [
       "           actual    predicted\n",
       "2513   769.231069   756.423971\n",
       "4882  3286.871280  3045.548632\n",
       "5100  3089.536800  3036.140216\n",
       "2672  1669.060800  1589.677702\n",
       "781   3246.061392  3193.835773\n",
       "...           ...          ...\n",
       "1974  2995.690500  2864.516255\n",
       "5882   726.317156   715.674855\n",
       "157   4504.779825  4646.077917\n",
       "4989   347.354865   333.822677\n",
       "5462   596.002018   543.010329\n",
       "\n",
       "[1911 rows x 2 columns]"
      ]
     },
     "execution_count": 42,
     "metadata": {},
     "output_type": "execute_result"
    }
   ],
   "source": [
    "df"
   ]
  }
 ],
 "metadata": {
  "kernelspec": {
   "display_name": "Python 3",
   "language": "python",
   "name": "python3"
  },
  "language_info": {
   "codemirror_mode": {
    "name": "ipython",
    "version": 3
   },
   "file_extension": ".py",
   "mimetype": "text/x-python",
   "name": "python",
   "nbconvert_exporter": "python",
   "pygments_lexer": "ipython3",
   "version": "3.8.3"
  }
 },
 "nbformat": 4,
 "nbformat_minor": 4
}
